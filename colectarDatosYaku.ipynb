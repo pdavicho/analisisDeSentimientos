{
 "cells": [
  {
   "cell_type": "code",
   "execution_count": null,
   "id": "large-shock",
   "metadata": {},
   "outputs": [],
   "source": [
    "#Librerias propias\n",
    "from ipynb.fs.full.credenciales import API_KEY,API_SECRET_KEY,ACCESS_TOKEN,ACCESS_TOKEN_SECRET\n",
    "#Librerias\n",
    "import tweepy\n",
    "import csv\n",
    "import datetime"
   ]
  },
  {
   "cell_type": "code",
   "execution_count": null,
   "id": "sustained-rings",
   "metadata": {},
   "outputs": [],
   "source": [
    "auth = tweepy.auth.OAuthHandler(API_KEY, API_SECRET_KEY)\n",
    "auth.set_access_token(ACCESS_TOKEN, ACCESS_TOKEN_SECRET)"
   ]
  },
  {
   "cell_type": "code",
   "execution_count": null,
   "id": "thrown-volunteer",
   "metadata": {},
   "outputs": [],
   "source": [
    "api = tweepy.API(auth)"
   ]
  },
  {
   "cell_type": "code",
   "execution_count": null,
   "id": "short-soviet",
   "metadata": {},
   "outputs": [],
   "source": [
    "csvFile = open('yaku.csv', 'wt', encoding='utf8')\n",
    "csvWriter = csv.writer(csvFile)\n",
    "buscarTerminos = 'YakuPerez'"
   ]
  },
  {
   "cell_type": "code",
   "execution_count": null,
   "id": "unsigned-moldova",
   "metadata": {},
   "outputs": [],
   "source": [
    "for tweet in tweepy.Cursor(api.search,\n",
    "                           q = buscarTerminos,\n",
    "                           since = '2021-02-07',\n",
    "                           until = '2021-02-20',\n",
    "                           lang = 'es').items(10000):#07-Elecciones__20-Proclamacion 2\n",
    "    csvWriter.writerow([tweet.created_at, tweet.text, tweet.user.location, tweet.retweet_count])\n",
    "    #print(tweet.created_at, tweet.text)\n",
    "csvFile.close()"
   ]
  },
  {
   "cell_type": "code",
   "execution_count": 1,
   "id": "chicken-beaver",
   "metadata": {},
   "outputs": [],
   "source": [
    "import pandas as pd"
   ]
  },
  {
   "cell_type": "code",
   "execution_count": 4,
   "id": "informed-scottish",
   "metadata": {},
   "outputs": [
    {
     "data": {
      "text/plain": [
       "Fecha       2693\n",
       "Tweet       2693\n",
       "Location    1662\n",
       "RTcount     2693\n",
       "dtype: int64"
      ]
     },
     "execution_count": 4,
     "metadata": {},
     "output_type": "execute_result"
    }
   ],
   "source": [
    "columTitulo = ['Fecha', 'Tweet', 'Location', 'RTcount']\n",
    "df = pd.read_csv('yaku.csv', names = columTitulo, encoding='utf-8')\n",
    "df.count()"
   ]
  }
 ],
 "metadata": {
  "kernelspec": {
   "display_name": "Python 3",
   "language": "python",
   "name": "python3"
  },
  "language_info": {
   "codemirror_mode": {
    "name": "ipython",
    "version": 3
   },
   "file_extension": ".py",
   "mimetype": "text/x-python",
   "name": "python",
   "nbconvert_exporter": "python",
   "pygments_lexer": "ipython3",
   "version": "3.8.5"
  }
 },
 "nbformat": 4,
 "nbformat_minor": 5
}
