{
 "cells": [
  {
   "cell_type": "code",
   "execution_count": 1,
   "id": "spiritual-grounds",
   "metadata": {},
   "outputs": [],
   "source": [
    "import tweepy\n",
    "import csv\n",
    "import datetime"
   ]
  },
  {
   "cell_type": "code",
   "execution_count": 2,
   "id": "current-vitamin",
   "metadata": {},
   "outputs": [],
   "source": [
    "API_KEY = \"bxBYmBdPQ9TSheLsKUlI8mMyv\"\n",
    "API_SECRET_KEY = \"L0Fweb9Gite9k0u4ARAw85rtIFSyMLAlWWHPx1I5Djlmip9blB\"\n",
    "\n",
    "ACCESS_TOKEN = \"256288155-ywRyb824HozGnPjMe0pRJ1tYPjeyXbv0BgEv9tSh\"\n",
    "ACCESS_TOKEN_SECRET = \"1VqufviVoOWUesDgnbLNH3rI4FsavstHToGI2NzO3Nbtz\""
   ]
  },
  {
   "cell_type": "code",
   "execution_count": 3,
   "id": "artistic-romance",
   "metadata": {},
   "outputs": [],
   "source": [
    "auth = tweepy.auth.OAuthHandler(API_KEY, API_SECRET_KEY)\n",
    "auth.set_access_token(ACCESS_TOKEN, ACCESS_TOKEN_SECRET)"
   ]
  },
  {
   "cell_type": "code",
   "execution_count": 4,
   "id": "mechanical-solomon",
   "metadata": {},
   "outputs": [],
   "source": [
    "api = tweepy.API(auth)"
   ]
  },
  {
   "cell_type": "code",
   "execution_count": 5,
   "id": "editorial-challenge",
   "metadata": {},
   "outputs": [],
   "source": [
    "csvFile = open('result.csv', 'wt', encoding='utf8')\n",
    "csvWriter = csv.writer(csvFile)"
   ]
  },
  {
   "cell_type": "code",
   "execution_count": 6,
   "id": "interested-satisfaction",
   "metadata": {},
   "outputs": [
    {
     "name": "stdout",
     "output_type": "stream",
     "text": [
      "2021-02-14 23:59:06 RT @eluniversocom: Guillermo Lasso afirma que para realizar el recuento de votos, el CNE debería proclamar primero los resultados. ► https:…\n",
      "2021-02-14 23:58:36 Que dice Arauz que mejor definan el segundo puesto haciendo lucha de almohadas, páreme la mano o zapatito cochinito… https://t.co/uNMZFuV84s\n",
      "2021-02-14 23:58:08 RT @ecuainm_oficial: #ATENCION #URGENTE #Ecuador Les dije...el tal \"acuerdo\" es ilegal. ¡NO TIENEN NINGÚN DERECHO, NI NADIE LES AUTORIZÓ A…\n",
      "2021-02-14 23:58:06 RT @eluniversocom: Guillermo Lasso afirma que para realizar el recuento de votos, el CNE debería proclamar primero los resultados. ► https:…\n",
      "2021-02-14 23:57:50 Así no se puede, es una payasada. Alzar vuelo mientras se pueda no deja de ser una opción #Elecciones2021Ec\n",
      "2021-02-14 23:57:19 RT @ecuainm_oficial: #ATENCION #URGENTE #Ecuador Les dije...el tal \"acuerdo\" es ilegal. ¡NO TIENEN NINGÚN DERECHO, NI NADIE LES AUTORIZÓ A…\n",
      "2021-02-14 23:57:13 RT @thaliafloresf: #ATENCIÓN: El candidato presidencial #GuillermoLasso envió a la presidenta del ⁦⁦#CNE, #DianaAtamaint, y a los consejero…\n",
      "2021-02-14 23:57:05 RT @ecuainm_oficial: #ATENCION #URGENTE #Ecuador Les dije...el tal \"acuerdo\" es ilegal. ¡NO TIENEN NINGÚN DERECHO, NI NADIE LES AUTORIZÓ A…\n",
      "2021-02-14 23:56:12 RT @CiudadanoDoe: Un independentista catalán se pasa a #Vox. #Elecciones2021Ec #EleccionesCatalanas #EleccionsCatalanes #Elecciones14F http…\n",
      "2021-02-14 23:53:51 RT @CiudadanoDoe: Un independentista catalán se pasa a #Vox. #Elecciones2021Ec #EleccionesCatalanas #EleccionsCatalanes #Elecciones14F http…\n"
     ]
    }
   ],
   "source": [
    "for tweet in tweepy.Cursor(api.search,\n",
    "                           q = 'Elecciones2021EC',\n",
    "                           since = '2021-01-01',\n",
    "                           until = '2021-02-15',\n",
    "                           lang = 'es').items(10):#count=1000\n",
    "    csvWriter.writerow([tweet.created_at, tweet.text])\n",
    "    print(tweet.created_at, tweet.text)\n",
    "csvFile.close()"
   ]
  },
  {
   "cell_type": "code",
   "execution_count": 7,
   "id": "fitted-commons",
   "metadata": {},
   "outputs": [],
   "source": [
    "import pandas as pd"
   ]
  },
  {
   "cell_type": "code",
   "execution_count": 8,
   "id": "utility-album",
   "metadata": {},
   "outputs": [
    {
     "data": {
      "text/plain": [
       "'RT @eluniversocom: Guillermo Lasso afirma que para realizar el recuento de votos, el CNE debería proclamar primero los resultados. ► https:…'"
      ]
     },
     "execution_count": 8,
     "metadata": {},
     "output_type": "execute_result"
    }
   ],
   "source": [
    "columTitle = ['Fecha', 'Tweet']\n",
    "df = pd.read_csv('result.csv', names=columTitle, encoding='utf-8')\n",
    "df['Tweet'][0]"
   ]
  },
  {
   "cell_type": "code",
   "execution_count": 9,
   "id": "protecting-premises",
   "metadata": {},
   "outputs": [
    {
     "data": {
      "text/plain": [
       "Fecha    6\n",
       "Tweet    6\n",
       "dtype: int64"
      ]
     },
     "execution_count": 9,
     "metadata": {},
     "output_type": "execute_result"
    }
   ],
   "source": [
    "#Eliminar duplicados\n",
    "df.drop_duplicates(['Tweet'], inplace=True)\n",
    "df.count()"
   ]
  },
  {
   "cell_type": "code",
   "execution_count": 10,
   "id": "embedded-brunei",
   "metadata": {},
   "outputs": [
    {
     "name": "stdout",
     "output_type": "stream",
     "text": [
      "['RT', '@eluniversocom:', 'Guillermo', 'Lasso', 'afirma', 'que', 'para', 'realizar', 'el', 'recuento', 'de', 'votos,', 'el', 'CNE', 'debería', 'proclamar', 'primero', 'los', 'resultados.', '►', 'https:…', 'Que', 'dice', 'Arauz', 'que', 'mejor', 'definan', 'el', 'segundo', 'puesto', 'haciendo', 'lucha', 'de', 'almohadas,', 'páreme', 'la', 'mano', 'o', 'zapatito', 'cochinito…', 'https://t.co/uNMZFuV84s', 'RT', '@ecuainm_oficial:', '#ATENCION', '#URGENTE', '#Ecuador', 'Les', 'dije...el', 'tal', '\"acuerdo\"', 'es', 'ilegal.', '¡NO', 'TIENEN', 'NINGÚN', 'DERECHO,', 'NI', 'NADIE', 'LES', 'AUTORIZÓ', 'A…', 'Así', 'no', 'se', 'puede,', 'es', 'una', 'payasada.', 'Alzar', 'vuelo', 'mientras', 'se', 'pueda', 'no', 'deja', 'de', 'ser', 'una', 'opción', '#Elecciones2021Ec', 'RT', '@thaliafloresf:', '#ATENCIÓN:', 'El', 'candidato', 'presidencial', '#GuillermoLasso', 'envió', 'a', 'la', 'presidenta', 'del', '\\u2066\\u2066#CNE,', '#DianaAtamaint,', 'y', 'a', 'los', 'consejero…', 'RT', '@CiudadanoDoe:', 'Un', 'independentista', 'catalán', 'se', 'pasa', 'a', '#Vox.', '#Elecciones2021Ec', '#EleccionesCatalanas', '#EleccionsCatalanes', '#Elecciones14F', 'http…']\n"
     ]
    }
   ],
   "source": [
    "all_sentences = []\n",
    "for word in df['Tweet']:  #Voy juntos los tweets\n",
    "    all_sentences.append(word)\n",
    "#all_sentences \n",
    "\n",
    "#Dividir por palabra\n",
    "lines = list()\n",
    "for line in all_sentences:\n",
    "    words = line.split()\n",
    "    for w in words:\n",
    "        lines.append(w)\n",
    "\n",
    "print(lines)"
   ]
  },
  {
   "cell_type": "code",
   "execution_count": 11,
   "id": "opening-village",
   "metadata": {},
   "outputs": [
    {
     "name": "stderr",
     "output_type": "stream",
     "text": [
      "[nltk_data] Downloading package stopwords to\n",
      "[nltk_data]     C:\\Users\\pablo\\AppData\\Roaming\\nltk_data...\n",
      "[nltk_data]   Package stopwords is already up-to-date!\n"
     ]
    }
   ],
   "source": [
    "#Limpieza\n",
    "import nltk\n",
    "from nltk.corpus import stopwords\n",
    "nltk.download('stopwords')\n",
    "from nltk.stem import PorterStemmer"
   ]
  },
  {
   "cell_type": "code",
   "execution_count": 12,
   "id": "anticipated-store",
   "metadata": {},
   "outputs": [],
   "source": [
    "stop_words = stopwords.words('spanish')\n",
    "stemmer = PorterStemmer()"
   ]
  },
  {
   "cell_type": "code",
   "execution_count": 13,
   "id": "extensive-aspect",
   "metadata": {},
   "outputs": [],
   "source": [
    "import re\n",
    "def Preprocessing(instancia):\n",
    "    instancia = re.sub(r\"http\\S+\",\" \", instancia).lower().replace('.','').replace(';','').replace('-','').replace(':','').replace(')','').replace('!','').replace('¡','')\n",
    "    stopwords = set(nltk.corpus.stopwords.words(\"spanish\"))\n",
    "    palabras = [i for i in instancia.split() if not i in stopwords]\n",
    "    return (\" \".join(palabras))"
   ]
  },
  {
   "cell_type": "code",
   "execution_count": 14,
   "id": "innocent-carbon",
   "metadata": {},
   "outputs": [],
   "source": [
    "tweets = [Preprocessing(i) for i in df.Tweet]"
   ]
  },
  {
   "cell_type": "code",
   "execution_count": 15,
   "id": "portuguese-viking",
   "metadata": {},
   "outputs": [
    {
     "data": {
      "text/html": [
       "<div>\n",
       "<style scoped>\n",
       "    .dataframe tbody tr th:only-of-type {\n",
       "        vertical-align: middle;\n",
       "    }\n",
       "\n",
       "    .dataframe tbody tr th {\n",
       "        vertical-align: top;\n",
       "    }\n",
       "\n",
       "    .dataframe thead th {\n",
       "        text-align: right;\n",
       "    }\n",
       "</style>\n",
       "<table border=\"1\" class=\"dataframe\">\n",
       "  <thead>\n",
       "    <tr style=\"text-align: right;\">\n",
       "      <th></th>\n",
       "      <th>Fecha</th>\n",
       "      <th>Tweet</th>\n",
       "      <th>Pre-Tweet</th>\n",
       "    </tr>\n",
       "  </thead>\n",
       "  <tbody>\n",
       "    <tr>\n",
       "      <th>0</th>\n",
       "      <td>2021-02-14 23:59:06</td>\n",
       "      <td>RT @eluniversocom: Guillermo Lasso afirma que ...</td>\n",
       "      <td>rt @eluniversocom guillermo lasso afirma reali...</td>\n",
       "    </tr>\n",
       "    <tr>\n",
       "      <th>1</th>\n",
       "      <td>2021-02-14 23:58:36</td>\n",
       "      <td>Que dice Arauz que mejor definan el segundo pu...</td>\n",
       "      <td>dice arauz mejor definan segundo puesto hacien...</td>\n",
       "    </tr>\n",
       "    <tr>\n",
       "      <th>2</th>\n",
       "      <td>2021-02-14 23:58:08</td>\n",
       "      <td>RT @ecuainm_oficial: #ATENCION #URGENTE #Ecuad...</td>\n",
       "      <td>rt @ecuainm_oficial #atencion #urgente #ecuado...</td>\n",
       "    </tr>\n",
       "    <tr>\n",
       "      <th>4</th>\n",
       "      <td>2021-02-14 23:57:50</td>\n",
       "      <td>Así no se puede, es una payasada. Alzar vuelo ...</td>\n",
       "      <td>así puede, payasada alzar vuelo mientras pueda...</td>\n",
       "    </tr>\n",
       "    <tr>\n",
       "      <th>6</th>\n",
       "      <td>2021-02-14 23:57:13</td>\n",
       "      <td>RT @thaliafloresf: #ATENCIÓN: El candidato pre...</td>\n",
       "      <td>rt @thaliafloresf #atención candidato presiden...</td>\n",
       "    </tr>\n",
       "  </tbody>\n",
       "</table>\n",
       "</div>"
      ],
      "text/plain": [
       "                 Fecha                                              Tweet  \\\n",
       "0  2021-02-14 23:59:06  RT @eluniversocom: Guillermo Lasso afirma que ...   \n",
       "1  2021-02-14 23:58:36  Que dice Arauz que mejor definan el segundo pu...   \n",
       "2  2021-02-14 23:58:08  RT @ecuainm_oficial: #ATENCION #URGENTE #Ecuad...   \n",
       "4  2021-02-14 23:57:50  Así no se puede, es una payasada. Alzar vuelo ...   \n",
       "6  2021-02-14 23:57:13  RT @thaliafloresf: #ATENCIÓN: El candidato pre...   \n",
       "\n",
       "                                           Pre-Tweet  \n",
       "0  rt @eluniversocom guillermo lasso afirma reali...  \n",
       "1  dice arauz mejor definan segundo puesto hacien...  \n",
       "2  rt @ecuainm_oficial #atencion #urgente #ecuado...  \n",
       "4  así puede, payasada alzar vuelo mientras pueda...  \n",
       "6  rt @thaliafloresf #atención candidato presiden...  "
      ]
     },
     "execution_count": 15,
     "metadata": {},
     "output_type": "execute_result"
    }
   ],
   "source": [
    "df['Pre-Tweet'] = tweets\n",
    "df.head()"
   ]
  },
  {
   "cell_type": "code",
   "execution_count": 16,
   "id": "opposite-leave",
   "metadata": {},
   "outputs": [],
   "source": [
    "from bs4 import BeautifulSoup\n",
    "def prep_tweets(tweet):\n",
    "    tweet = BeautifulSoup(tweet, \"html.parser\").get_text() #remove HTML tags\n",
    "    tweet = re.sub(r\"[^a-zA-Zà-úÀ-Ú0-9]\",\" \", tweet.lower()) #limpia y convierte para minusculo\n",
    "    #tweet = tweet_tokenizer.tokenize(tweet)\n",
    "    return tweet"
   ]
  },
  {
   "cell_type": "code",
   "execution_count": 17,
   "id": "transsexual-reception",
   "metadata": {},
   "outputs": [
    {
     "data": {
      "text/html": [
       "<div>\n",
       "<style scoped>\n",
       "    .dataframe tbody tr th:only-of-type {\n",
       "        vertical-align: middle;\n",
       "    }\n",
       "\n",
       "    .dataframe tbody tr th {\n",
       "        vertical-align: top;\n",
       "    }\n",
       "\n",
       "    .dataframe thead th {\n",
       "        text-align: right;\n",
       "    }\n",
       "</style>\n",
       "<table border=\"1\" class=\"dataframe\">\n",
       "  <thead>\n",
       "    <tr style=\"text-align: right;\">\n",
       "      <th></th>\n",
       "      <th>Fecha</th>\n",
       "      <th>Tweet</th>\n",
       "      <th>Pre-Tweet</th>\n",
       "      <th>clean_tweet</th>\n",
       "    </tr>\n",
       "  </thead>\n",
       "  <tbody>\n",
       "    <tr>\n",
       "      <th>0</th>\n",
       "      <td>2021-02-14 23:59:06</td>\n",
       "      <td>RT @eluniversocom: Guillermo Lasso afirma que ...</td>\n",
       "      <td>rt @eluniversocom guillermo lasso afirma reali...</td>\n",
       "      <td>rt  eluniversocom guillermo lasso afirma reali...</td>\n",
       "    </tr>\n",
       "    <tr>\n",
       "      <th>1</th>\n",
       "      <td>2021-02-14 23:58:36</td>\n",
       "      <td>Que dice Arauz que mejor definan el segundo pu...</td>\n",
       "      <td>dice arauz mejor definan segundo puesto hacien...</td>\n",
       "      <td>dice arauz mejor definan segundo puesto hacien...</td>\n",
       "    </tr>\n",
       "    <tr>\n",
       "      <th>2</th>\n",
       "      <td>2021-02-14 23:58:08</td>\n",
       "      <td>RT @ecuainm_oficial: #ATENCION #URGENTE #Ecuad...</td>\n",
       "      <td>rt @ecuainm_oficial #atencion #urgente #ecuado...</td>\n",
       "      <td>rt  ecuainm oficial  atencion  urgente  ecuado...</td>\n",
       "    </tr>\n",
       "    <tr>\n",
       "      <th>4</th>\n",
       "      <td>2021-02-14 23:57:50</td>\n",
       "      <td>Así no se puede, es una payasada. Alzar vuelo ...</td>\n",
       "      <td>así puede, payasada alzar vuelo mientras pueda...</td>\n",
       "      <td>así puede  payasada alzar vuelo mientras pueda...</td>\n",
       "    </tr>\n",
       "    <tr>\n",
       "      <th>6</th>\n",
       "      <td>2021-02-14 23:57:13</td>\n",
       "      <td>RT @thaliafloresf: #ATENCIÓN: El candidato pre...</td>\n",
       "      <td>rt @thaliafloresf #atención candidato presiden...</td>\n",
       "      <td>rt  thaliafloresf  atención candidato presiden...</td>\n",
       "    </tr>\n",
       "  </tbody>\n",
       "</table>\n",
       "</div>"
      ],
      "text/plain": [
       "                 Fecha                                              Tweet  \\\n",
       "0  2021-02-14 23:59:06  RT @eluniversocom: Guillermo Lasso afirma que ...   \n",
       "1  2021-02-14 23:58:36  Que dice Arauz que mejor definan el segundo pu...   \n",
       "2  2021-02-14 23:58:08  RT @ecuainm_oficial: #ATENCION #URGENTE #Ecuad...   \n",
       "4  2021-02-14 23:57:50  Así no se puede, es una payasada. Alzar vuelo ...   \n",
       "6  2021-02-14 23:57:13  RT @thaliafloresf: #ATENCIÓN: El candidato pre...   \n",
       "\n",
       "                                           Pre-Tweet  \\\n",
       "0  rt @eluniversocom guillermo lasso afirma reali...   \n",
       "1  dice arauz mejor definan segundo puesto hacien...   \n",
       "2  rt @ecuainm_oficial #atencion #urgente #ecuado...   \n",
       "4  así puede, payasada alzar vuelo mientras pueda...   \n",
       "6  rt @thaliafloresf #atención candidato presiden...   \n",
       "\n",
       "                                         clean_tweet  \n",
       "0  rt  eluniversocom guillermo lasso afirma reali...  \n",
       "1  dice arauz mejor definan segundo puesto hacien...  \n",
       "2  rt  ecuainm oficial  atencion  urgente  ecuado...  \n",
       "4  así puede  payasada alzar vuelo mientras pueda...  \n",
       "6  rt  thaliafloresf  atención candidato presiden...  "
      ]
     },
     "execution_count": 17,
     "metadata": {},
     "output_type": "execute_result"
    }
   ],
   "source": [
    "df['clean_tweet'] = [prep_tweets(tweet) for tweet in df['Pre-Tweet']]\n",
    "df.head()"
   ]
  },
  {
   "cell_type": "markdown",
   "id": "loose-balloon",
   "metadata": {},
   "source": [
    "# Analisis de Sentimientos"
   ]
  },
  {
   "cell_type": "code",
   "execution_count": 18,
   "id": "executive-buyer",
   "metadata": {},
   "outputs": [],
   "source": [
    "from sentiment_analysis_spanish import sentiment_analysis"
   ]
  },
  {
   "cell_type": "code",
   "execution_count": 21,
   "id": "neither-ballet",
   "metadata": {},
   "outputs": [
    {
     "name": "stderr",
     "output_type": "stream",
     "text": [
      "C:\\Users\\pablo\\Anaconda3\\envs\\Twitter\\lib\\site-packages\\sklearn\\base.py:313: UserWarning: Trying to unpickle estimator CountVectorizer from version 0.23.2 when using version 0.22. This might lead to breaking code or invalid results. Use at your own risk.\n",
      "  warnings.warn(\n",
      "C:\\Users\\pablo\\Anaconda3\\envs\\Twitter\\lib\\site-packages\\sklearn\\base.py:313: UserWarning: Trying to unpickle estimator MultinomialNB from version 0.23.2 when using version 0.22. This might lead to breaking code or invalid results. Use at your own risk.\n",
      "  warnings.warn(\n"
     ]
    }
   ],
   "source": [
    "sentiment = sentiment_analysis.SentimentAnalysisSpanish()\n",
    "\n",
    "def spanish(tweet):\n",
    "    tweet = sentiment.sentiment(tweet)\n",
    "    return tweet   "
   ]
  },
  {
   "cell_type": "code",
   "execution_count": 23,
   "id": "mobile-mediterranean",
   "metadata": {},
   "outputs": [
    {
     "data": {
      "text/html": [
       "<div>\n",
       "<style scoped>\n",
       "    .dataframe tbody tr th:only-of-type {\n",
       "        vertical-align: middle;\n",
       "    }\n",
       "\n",
       "    .dataframe tbody tr th {\n",
       "        vertical-align: top;\n",
       "    }\n",
       "\n",
       "    .dataframe thead th {\n",
       "        text-align: right;\n",
       "    }\n",
       "</style>\n",
       "<table border=\"1\" class=\"dataframe\">\n",
       "  <thead>\n",
       "    <tr style=\"text-align: right;\">\n",
       "      <th></th>\n",
       "      <th>Fecha</th>\n",
       "      <th>Tweet</th>\n",
       "      <th>Pre-Tweet</th>\n",
       "      <th>clean_tweet</th>\n",
       "      <th>sentimientos</th>\n",
       "    </tr>\n",
       "  </thead>\n",
       "  <tbody>\n",
       "    <tr>\n",
       "      <th>0</th>\n",
       "      <td>2021-02-14 23:59:06</td>\n",
       "      <td>RT @eluniversocom: Guillermo Lasso afirma que ...</td>\n",
       "      <td>rt @eluniversocom guillermo lasso afirma reali...</td>\n",
       "      <td>rt  eluniversocom guillermo lasso afirma reali...</td>\n",
       "      <td>0.040916</td>\n",
       "    </tr>\n",
       "    <tr>\n",
       "      <th>1</th>\n",
       "      <td>2021-02-14 23:58:36</td>\n",
       "      <td>Que dice Arauz que mejor definan el segundo pu...</td>\n",
       "      <td>dice arauz mejor definan segundo puesto hacien...</td>\n",
       "      <td>dice arauz mejor definan segundo puesto hacien...</td>\n",
       "      <td>0.005259</td>\n",
       "    </tr>\n",
       "    <tr>\n",
       "      <th>2</th>\n",
       "      <td>2021-02-14 23:58:08</td>\n",
       "      <td>RT @ecuainm_oficial: #ATENCION #URGENTE #Ecuad...</td>\n",
       "      <td>rt @ecuainm_oficial #atencion #urgente #ecuado...</td>\n",
       "      <td>rt  ecuainm oficial  atencion  urgente  ecuado...</td>\n",
       "      <td>0.007688</td>\n",
       "    </tr>\n",
       "    <tr>\n",
       "      <th>4</th>\n",
       "      <td>2021-02-14 23:57:50</td>\n",
       "      <td>Así no se puede, es una payasada. Alzar vuelo ...</td>\n",
       "      <td>así puede, payasada alzar vuelo mientras pueda...</td>\n",
       "      <td>así puede  payasada alzar vuelo mientras pueda...</td>\n",
       "      <td>0.106817</td>\n",
       "    </tr>\n",
       "    <tr>\n",
       "      <th>6</th>\n",
       "      <td>2021-02-14 23:57:13</td>\n",
       "      <td>RT @thaliafloresf: #ATENCIÓN: El candidato pre...</td>\n",
       "      <td>rt @thaliafloresf #atención candidato presiden...</td>\n",
       "      <td>rt  thaliafloresf  atención candidato presiden...</td>\n",
       "      <td>0.630123</td>\n",
       "    </tr>\n",
       "  </tbody>\n",
       "</table>\n",
       "</div>"
      ],
      "text/plain": [
       "                 Fecha                                              Tweet  \\\n",
       "0  2021-02-14 23:59:06  RT @eluniversocom: Guillermo Lasso afirma que ...   \n",
       "1  2021-02-14 23:58:36  Que dice Arauz que mejor definan el segundo pu...   \n",
       "2  2021-02-14 23:58:08  RT @ecuainm_oficial: #ATENCION #URGENTE #Ecuad...   \n",
       "4  2021-02-14 23:57:50  Así no se puede, es una payasada. Alzar vuelo ...   \n",
       "6  2021-02-14 23:57:13  RT @thaliafloresf: #ATENCIÓN: El candidato pre...   \n",
       "\n",
       "                                           Pre-Tweet  \\\n",
       "0  rt @eluniversocom guillermo lasso afirma reali...   \n",
       "1  dice arauz mejor definan segundo puesto hacien...   \n",
       "2  rt @ecuainm_oficial #atencion #urgente #ecuado...   \n",
       "4  así puede, payasada alzar vuelo mientras pueda...   \n",
       "6  rt @thaliafloresf #atención candidato presiden...   \n",
       "\n",
       "                                         clean_tweet  sentimientos  \n",
       "0  rt  eluniversocom guillermo lasso afirma reali...      0.040916  \n",
       "1  dice arauz mejor definan segundo puesto hacien...      0.005259  \n",
       "2  rt  ecuainm oficial  atencion  urgente  ecuado...      0.007688  \n",
       "4  así puede  payasada alzar vuelo mientras pueda...      0.106817  \n",
       "6  rt  thaliafloresf  atención candidato presiden...      0.630123  "
      ]
     },
     "execution_count": 23,
     "metadata": {},
     "output_type": "execute_result"
    }
   ],
   "source": [
    "df['sentimientos'] = [spanish(tweet) for tweet in df['clean_tweet']]\n",
    "df.head()"
   ]
  },
  {
   "cell_type": "markdown",
   "id": "overhead-sitting",
   "metadata": {},
   "source": [
    "# Primero traducir a Inglés y luego análizar"
   ]
  },
  {
   "cell_type": "code",
   "execution_count": 24,
   "id": "worst-recipient",
   "metadata": {},
   "outputs": [],
   "source": [
    "from textblob import TextBlob"
   ]
  },
  {
   "cell_type": "code",
   "execution_count": 28,
   "id": "offensive-terrorism",
   "metadata": {},
   "outputs": [],
   "source": [
    "def textoblob(tweet):\n",
    "    tweet = TextBlob(tweet)\n",
    "    tweet = tweet.translate(to='en')\n",
    "    return tweet"
   ]
  },
  {
   "cell_type": "code",
   "execution_count": 32,
   "id": "aboriginal-allergy",
   "metadata": {},
   "outputs": [],
   "source": [
    "def inglestra(tweet):\n",
    "    tweet = tweet.translate(to='en')\n",
    "    return tweet"
   ]
  },
  {
   "cell_type": "code",
   "execution_count": 40,
   "id": "searching-fiction",
   "metadata": {},
   "outputs": [
    {
     "name": "stdout",
     "output_type": "stream",
     "text": [
      "rt eluniversocom guillermo lasso affirms to count votes cne should first proclaim results\n",
      "Arauz says better define second place by fighting pillows stop me hand little shoe piggy\n",
      "rt ecuainm official urgent attention ecuador said the illegal agreement no right no one authorized\n",
      "so clowning can take flight while it can let be an option elections2021ec\n",
      "rt thaliafloresf attention presidential candidate guillermolasso sent president cne dianaatamaint advisor\n",
      "rt citizen and Catalan independentista passes vox elections2021ec electionscatalanas electionscatalanes elections14f\n"
     ]
    }
   ],
   "source": [
    "textoBLOB = []\n",
    "for i in df['clean_tweet']:\n",
    "    textoBLOB = textoblob(i)\n",
    "    textoBLOB = inglestra(textoBLOB)\n",
    "    print(textoBLOB)"
   ]
  },
  {
   "cell_type": "code",
   "execution_count": 43,
   "id": "foreign-sense",
   "metadata": {},
   "outputs": [
    {
     "data": {
      "text/html": [
       "<div>\n",
       "<style scoped>\n",
       "    .dataframe tbody tr th:only-of-type {\n",
       "        vertical-align: middle;\n",
       "    }\n",
       "\n",
       "    .dataframe tbody tr th {\n",
       "        vertical-align: top;\n",
       "    }\n",
       "\n",
       "    .dataframe thead th {\n",
       "        text-align: right;\n",
       "    }\n",
       "</style>\n",
       "<table border=\"1\" class=\"dataframe\">\n",
       "  <thead>\n",
       "    <tr style=\"text-align: right;\">\n",
       "      <th></th>\n",
       "      <th>Fecha</th>\n",
       "      <th>Tweet</th>\n",
       "      <th>Pre-Tweet</th>\n",
       "      <th>clean_tweet</th>\n",
       "      <th>sentimientos</th>\n",
       "      <th>inglés</th>\n",
       "      <th>ingles</th>\n",
       "      <th>textoBLOB</th>\n",
       "      <th>inglesBLOB</th>\n",
       "    </tr>\n",
       "  </thead>\n",
       "  <tbody>\n",
       "    <tr>\n",
       "      <th>0</th>\n",
       "      <td>2021-02-14 23:59:06</td>\n",
       "      <td>RT @eluniversocom: Guillermo Lasso afirma que ...</td>\n",
       "      <td>rt @eluniversocom guillermo lasso afirma reali...</td>\n",
       "      <td>rt  eluniversocom guillermo lasso afirma reali...</td>\n",
       "      <td>0.040916</td>\n",
       "      <td>(r, t,  , e, l, u, n, i, v, e, r, s, o, c, o, ...</td>\n",
       "      <td>(r, t,  ,  , e, l, u, n, i, v, e, r, s, o, c, ...</td>\n",
       "      <td>(r, t,  ,  , e, l, u, n, i, v, e, r, s, o, c, ...</td>\n",
       "      <td>(r, t,  ,  , e, l, u, n, i, v, e, r, s, o, c, ...</td>\n",
       "    </tr>\n",
       "    <tr>\n",
       "      <th>1</th>\n",
       "      <td>2021-02-14 23:58:36</td>\n",
       "      <td>Que dice Arauz que mejor definan el segundo pu...</td>\n",
       "      <td>dice arauz mejor definan segundo puesto hacien...</td>\n",
       "      <td>dice arauz mejor definan segundo puesto hacien...</td>\n",
       "      <td>0.005259</td>\n",
       "      <td>(A, r, a, u, z,  , s, a, y, s,  , b, e, t, t, ...</td>\n",
       "      <td>(d, i, c, e,  , a, r, a, u, z,  , m, e, j, o, ...</td>\n",
       "      <td>(d, i, c, e,  , a, r, a, u, z,  , m, e, j, o, ...</td>\n",
       "      <td>(d, i, c, e,  , a, r, a, u, z,  , m, e, j, o, ...</td>\n",
       "    </tr>\n",
       "    <tr>\n",
       "      <th>2</th>\n",
       "      <td>2021-02-14 23:58:08</td>\n",
       "      <td>RT @ecuainm_oficial: #ATENCION #URGENTE #Ecuad...</td>\n",
       "      <td>rt @ecuainm_oficial #atencion #urgente #ecuado...</td>\n",
       "      <td>rt  ecuainm oficial  atencion  urgente  ecuado...</td>\n",
       "      <td>0.007688</td>\n",
       "      <td>(r, t,  , e, c, u, a, i, n, m,  , o, f, f, i, ...</td>\n",
       "      <td>(r, t,  ,  , e, c, u, a, i, n, m,  , o, f, i, ...</td>\n",
       "      <td>(r, t,  ,  , e, c, u, a, i, n, m,  , o, f, i, ...</td>\n",
       "      <td>(r, t,  ,  , e, c, u, a, i, n, m,  , o, f, i, ...</td>\n",
       "    </tr>\n",
       "    <tr>\n",
       "      <th>4</th>\n",
       "      <td>2021-02-14 23:57:50</td>\n",
       "      <td>Así no se puede, es una payasada. Alzar vuelo ...</td>\n",
       "      <td>así puede, payasada alzar vuelo mientras pueda...</td>\n",
       "      <td>así puede  payasada alzar vuelo mientras pueda...</td>\n",
       "      <td>0.106817</td>\n",
       "      <td>(s, o,  , c, l, o, w, n, i, n, g,  , c, a, n, ...</td>\n",
       "      <td>(a, s, í,  , p, u, e, d, e,  ,  , p, a, y, a, ...</td>\n",
       "      <td>(a, s, í,  , p, u, e, d, e,  ,  , p, a, y, a, ...</td>\n",
       "      <td>(a, s, í,  , p, u, e, d, e,  ,  , p, a, y, a, ...</td>\n",
       "    </tr>\n",
       "    <tr>\n",
       "      <th>6</th>\n",
       "      <td>2021-02-14 23:57:13</td>\n",
       "      <td>RT @thaliafloresf: #ATENCIÓN: El candidato pre...</td>\n",
       "      <td>rt @thaliafloresf #atención candidato presiden...</td>\n",
       "      <td>rt  thaliafloresf  atención candidato presiden...</td>\n",
       "      <td>0.630123</td>\n",
       "      <td>(r, t,  , t, h, a, l, i, a, f, l, o, r, e, s, ...</td>\n",
       "      <td>(r, t,  ,  , t, h, a, l, i, a, f, l, o, r, e, ...</td>\n",
       "      <td>(r, t,  ,  , t, h, a, l, i, a, f, l, o, r, e, ...</td>\n",
       "      <td>(r, t,  ,  , t, h, a, l, i, a, f, l, o, r, e, ...</td>\n",
       "    </tr>\n",
       "  </tbody>\n",
       "</table>\n",
       "</div>"
      ],
      "text/plain": [
       "                 Fecha                                              Tweet  \\\n",
       "0  2021-02-14 23:59:06  RT @eluniversocom: Guillermo Lasso afirma que ...   \n",
       "1  2021-02-14 23:58:36  Que dice Arauz que mejor definan el segundo pu...   \n",
       "2  2021-02-14 23:58:08  RT @ecuainm_oficial: #ATENCION #URGENTE #Ecuad...   \n",
       "4  2021-02-14 23:57:50  Así no se puede, es una payasada. Alzar vuelo ...   \n",
       "6  2021-02-14 23:57:13  RT @thaliafloresf: #ATENCIÓN: El candidato pre...   \n",
       "\n",
       "                                           Pre-Tweet  \\\n",
       "0  rt @eluniversocom guillermo lasso afirma reali...   \n",
       "1  dice arauz mejor definan segundo puesto hacien...   \n",
       "2  rt @ecuainm_oficial #atencion #urgente #ecuado...   \n",
       "4  así puede, payasada alzar vuelo mientras pueda...   \n",
       "6  rt @thaliafloresf #atención candidato presiden...   \n",
       "\n",
       "                                         clean_tweet  sentimientos  \\\n",
       "0  rt  eluniversocom guillermo lasso afirma reali...      0.040916   \n",
       "1  dice arauz mejor definan segundo puesto hacien...      0.005259   \n",
       "2  rt  ecuainm oficial  atencion  urgente  ecuado...      0.007688   \n",
       "4  así puede  payasada alzar vuelo mientras pueda...      0.106817   \n",
       "6  rt  thaliafloresf  atención candidato presiden...      0.630123   \n",
       "\n",
       "                                              inglés  \\\n",
       "0  (r, t,  , e, l, u, n, i, v, e, r, s, o, c, o, ...   \n",
       "1  (A, r, a, u, z,  , s, a, y, s,  , b, e, t, t, ...   \n",
       "2  (r, t,  , e, c, u, a, i, n, m,  , o, f, f, i, ...   \n",
       "4  (s, o,  , c, l, o, w, n, i, n, g,  , c, a, n, ...   \n",
       "6  (r, t,  , t, h, a, l, i, a, f, l, o, r, e, s, ...   \n",
       "\n",
       "                                              ingles  \\\n",
       "0  (r, t,  ,  , e, l, u, n, i, v, e, r, s, o, c, ...   \n",
       "1  (d, i, c, e,  , a, r, a, u, z,  , m, e, j, o, ...   \n",
       "2  (r, t,  ,  , e, c, u, a, i, n, m,  , o, f, i, ...   \n",
       "4  (a, s, í,  , p, u, e, d, e,  ,  , p, a, y, a, ...   \n",
       "6  (r, t,  ,  , t, h, a, l, i, a, f, l, o, r, e, ...   \n",
       "\n",
       "                                           textoBLOB  \\\n",
       "0  (r, t,  ,  , e, l, u, n, i, v, e, r, s, o, c, ...   \n",
       "1  (d, i, c, e,  , a, r, a, u, z,  , m, e, j, o, ...   \n",
       "2  (r, t,  ,  , e, c, u, a, i, n, m,  , o, f, i, ...   \n",
       "4  (a, s, í,  , p, u, e, d, e,  ,  , p, a, y, a, ...   \n",
       "6  (r, t,  ,  , t, h, a, l, i, a, f, l, o, r, e, ...   \n",
       "\n",
       "                                          inglesBLOB  \n",
       "0  (r, t,  ,  , e, l, u, n, i, v, e, r, s, o, c, ...  \n",
       "1  (d, i, c, e,  , a, r, a, u, z,  , m, e, j, o, ...  \n",
       "2  (r, t,  ,  , e, c, u, a, i, n, m,  , o, f, i, ...  \n",
       "4  (a, s, í,  , p, u, e, d, e,  ,  , p, a, y, a, ...  \n",
       "6  (r, t,  ,  , t, h, a, l, i, a, f, l, o, r, e, ...  "
      ]
     },
     "execution_count": 43,
     "metadata": {},
     "output_type": "execute_result"
    }
   ],
   "source": [
    "df['inglesBLOB'] = [textoblob(tweet) for tweet in df['clean_tweet']]\n",
    "df.head()"
   ]
  },
  {
   "cell_type": "code",
   "execution_count": null,
   "id": "bridal-senior",
   "metadata": {},
   "outputs": [],
   "source": []
  },
  {
   "cell_type": "code",
   "execution_count": null,
   "id": "coastal-soldier",
   "metadata": {},
   "outputs": [],
   "source": []
  },
  {
   "cell_type": "code",
   "execution_count": null,
   "id": "valid-netscape",
   "metadata": {},
   "outputs": [],
   "source": []
  }
 ],
 "metadata": {
  "kernelspec": {
   "display_name": "Python 3",
   "language": "python",
   "name": "python3"
  },
  "language_info": {
   "codemirror_mode": {
    "name": "ipython",
    "version": 3
   },
   "file_extension": ".py",
   "mimetype": "text/x-python",
   "name": "python",
   "nbconvert_exporter": "python",
   "pygments_lexer": "ipython3",
   "version": "3.8.5"
  }
 },
 "nbformat": 4,
 "nbformat_minor": 5
}
