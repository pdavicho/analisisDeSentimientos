{
 "cells": [
  {
   "cell_type": "code",
   "execution_count": 2,
   "id": "median-prince",
   "metadata": {},
   "outputs": [],
   "source": [
    "#Credenciales del API Twitter\n",
    "\n",
    "API_KEY = \"\"\n",
    "API_SECRET_KEY = \"\"\n",
    "\n",
    "ACCESS_TOKEN = \"\"\n",
    "ACCESS_TOKEN_SECRET = \"\""
   ]
  }
 ],
 "metadata": {
  "kernelspec": {
   "display_name": "Python 3",
   "language": "python",
   "name": "python3"
  },
  "language_info": {
   "codemirror_mode": {
    "name": "ipython",
    "version": 3
   },
   "file_extension": ".py",
   "mimetype": "text/x-python",
   "name": "python",
   "nbconvert_exporter": "python",
   "pygments_lexer": "ipython3",
   "version": "3.8.5"
  }
 },
 "nbformat": 4,
 "nbformat_minor": 5
}
