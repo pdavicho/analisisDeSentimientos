{
 "cells": [
  {
   "cell_type": "code",
   "execution_count": 2,
   "id": "median-prince",
   "metadata": {},
   "outputs": [],
   "source": [
    "#Credenciales del API Twitter\n",
    "\n",
    "API_KEY = \"bxBYmBdPQ9TSheLsKUlI8mMyv\"\n",
    "API_SECRET_KEY = \"L0Fweb9Gite9k0u4ARAw85rtIFSyMLAlWWHPx1I5Djlmip9blB\"\n",
    "\n",
    "ACCESS_TOKEN = \"256288155-ywRyb824HozGnPjMe0pRJ1tYPjeyXbv0BgEv9tSh\"\n",
    "ACCESS_TOKEN_SECRET = \"1VqufviVoOWUesDgnbLNH3rI4FsavstHToGI2NzO3Nbtz\""
   ]
  }
 ],
 "metadata": {
  "kernelspec": {
   "display_name": "Python 3",
   "language": "python",
   "name": "python3"
  },
  "language_info": {
   "codemirror_mode": {
    "name": "ipython",
    "version": 3
   },
   "file_extension": ".py",
   "mimetype": "text/x-python",
   "name": "python",
   "nbconvert_exporter": "python",
   "pygments_lexer": "ipython3",
   "version": "3.8.5"
  }
 },
 "nbformat": 4,
 "nbformat_minor": 5
}
