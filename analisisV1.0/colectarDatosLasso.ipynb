{
 "cells": [
  {
   "cell_type": "code",
   "execution_count": 3,
   "id": "horizontal-vaccine",
   "metadata": {},
   "outputs": [],
   "source": [
    "#Librerias propias\n",
    "from ipynb.fs.full.credenciales import API_KEY,API_SECRET_KEY,ACCESS_TOKEN,ACCESS_TOKEN_SECRET\n",
    "#Librerias\n",
    "import tweepy\n",
    "import csv\n",
    "import datetime"
   ]
  },
  {
   "cell_type": "code",
   "execution_count": 4,
   "id": "perceived-kazakhstan",
   "metadata": {},
   "outputs": [],
   "source": [
    "auth = tweepy.auth.OAuthHandler(API_KEY, API_SECRET_KEY)\n",
    "auth.set_access_token(ACCESS_TOKEN, ACCESS_TOKEN_SECRET)"
   ]
  },
  {
   "cell_type": "code",
   "execution_count": 5,
   "id": "moderate-shanghai",
   "metadata": {},
   "outputs": [],
   "source": [
    "api = tweepy.API(auth)"
   ]
  },
  {
   "cell_type": "code",
   "execution_count": 10,
   "id": "extreme-accused",
   "metadata": {},
   "outputs": [],
   "source": [
    "csvFile = open('lasso.csv', 'wt', encoding='utf8')\n",
    "csvWriter = csv.writer(csvFile)\n",
    "buscarTerminos = 'GuillermoLasso'"
   ]
  },
  {
   "cell_type": "code",
   "execution_count": 11,
   "id": "psychological-recruitment",
   "metadata": {},
   "outputs": [],
   "source": [
    "for tweet in tweepy.Cursor(api.search,\n",
    "                           q = buscarTerminos,\n",
    "                           since = '2021-02-07',\n",
    "                           until = '2021-02-20',\n",
    "                           lang = 'es').items(10000):#07-Elecciones__20-Proclamacion 2\n",
    "    csvWriter.writerow([tweet.created_at, tweet.text, tweet.user.location, tweet.retweet_count])\n",
    "    #print(tweet.created_at, tweet.text)\n",
    "csvFile.close()"
   ]
  },
  {
   "cell_type": "code",
   "execution_count": 12,
   "id": "minus-diploma",
   "metadata": {},
   "outputs": [],
   "source": [
    "import pandas as pd"
   ]
  },
  {
   "cell_type": "code",
   "execution_count": 13,
   "id": "determined-exclusive",
   "metadata": {},
   "outputs": [
    {
     "data": {
      "text/plain": [
       "Fecha       1527\n",
       "Tweet       1527\n",
       "Location     561\n",
       "RTcount     1527\n",
       "dtype: int64"
      ]
     },
     "execution_count": 13,
     "metadata": {},
     "output_type": "execute_result"
    }
   ],
   "source": [
    "columTitulo = ['Fecha', 'Tweet', 'Location', 'RTcount']\n",
    "df = pd.read_csv('lasso.csv', names = columTitulo, encoding='utf-8')\n",
    "df.count()"
   ]
  }
 ],
 "metadata": {
  "kernelspec": {
   "display_name": "Python 3",
   "language": "python",
   "name": "python3"
  },
  "language_info": {
   "codemirror_mode": {
    "name": "ipython",
    "version": 3
   },
   "file_extension": ".py",
   "mimetype": "text/x-python",
   "name": "python",
   "nbconvert_exporter": "python",
   "pygments_lexer": "ipython3",
   "version": "3.8.5"
  }
 },
 "nbformat": 4,
 "nbformat_minor": 5
}
